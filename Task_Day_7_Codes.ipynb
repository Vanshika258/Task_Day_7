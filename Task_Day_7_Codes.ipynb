{
  "nbformat": 4,
  "nbformat_minor": 0,
  "metadata": {
    "colab": {
      "provenance": []
    },
    "kernelspec": {
      "name": "python3",
      "display_name": "Python 3"
    },
    "language_info": {
      "name": "python"
    }
  },
  "cells": [
    {
      "cell_type": "markdown",
      "source": [
        "#Task Day 7"
      ],
      "metadata": {
        "id": "kMjEHpbUIuS8"
      }
    },
    {
      "cell_type": "markdown",
      "source": [
        "Get Basic Sales Summary from a Tiny SQLite Database using Python"
      ],
      "metadata": {
        "id": "TIkzdUXCIzoT"
      }
    },
    {
      "cell_type": "code",
      "source": [
        "import pandas as pd\n",
        "import matplotlib.pyplot as plt\n",
        "import sqlite3"
      ],
      "metadata": {
        "id": "kDKPdBsAPhWd"
      },
      "execution_count": 11,
      "outputs": []
    },
    {
      "cell_type": "markdown",
      "source": [
        "#Creating SQLite Database"
      ],
      "metadata": {
        "id": "gZkDJK0bPI-z"
      }
    },
    {
      "cell_type": "code",
      "execution_count": 19,
      "metadata": {
        "id": "mevdWJgEIpKo"
      },
      "outputs": [],
      "source": [
        "#Create database\n",
        "data = sqlite3.connect(\"sales_data.db\")\n",
        "cursor = data.cursor()"
      ]
    },
    {
      "cell_type": "code",
      "source": [
        "#Create sales data\n",
        "cursor.execute(\"\"\"\n",
        "CREATE TABLE IF NOT EXISTS sales (\n",
        "    Id INTEGER PRIMARY KEY,\n",
        "    Product TEXT,\n",
        "    Quantity INTEGER,\n",
        "    Price REAL\n",
        ")\n",
        "\"\"\")"
      ],
      "metadata": {
        "colab": {
          "base_uri": "https://localhost:8080/"
        },
        "id": "0ABWl6fBN96V",
        "outputId": "a5af655d-b5b0-4c45-eea9-c389e96d4d67"
      },
      "execution_count": 20,
      "outputs": [
        {
          "output_type": "execute_result",
          "data": {
            "text/plain": [
              "<sqlite3.Cursor at 0x78ae54fc0c40>"
            ]
          },
          "metadata": {},
          "execution_count": 20
        }
      ]
    },
    {
      "cell_type": "code",
      "source": [
        "#Insert data\n",
        "sample_data = [\n",
        "    ('Laptop', 2, 750.00),\n",
        "    ('Smartphone', 5, 300.00),\n",
        "    ('Headphones', 10, 50.00),\n",
        "    ('Monitor', 3, 150.00),\n",
        "    ('Keyboard', 7, 25.00),\n",
        "    ('Mouse', 12, 20.00),\n",
        "    ('Laptop', 1, 750.00),\n",
        "    ('Smartphone', 3, 300.00),\n",
        "    ('Monitor', 2, 150.00),\n",
        "    ('Keyboard', 5, 25.00),\n",
        "    ('Mouse', 8, 20.00),\n",
        "    ('Headphones', 4, 50.00),\n",
        "]"
      ],
      "metadata": {
        "id": "cl3e047nON6O"
      },
      "execution_count": 21,
      "outputs": []
    },
    {
      "cell_type": "code",
      "source": [
        "cursor.executemany(\"INSERT INTO sales (Product, Quantity, Price) VALUES (?, ?, ?)\", sample_data)"
      ],
      "metadata": {
        "colab": {
          "base_uri": "https://localhost:8080/"
        },
        "id": "5-q3m6rTO7Le",
        "outputId": "73a63172-1d30-4ff6-f18f-bfdee17902a3"
      },
      "execution_count": 22,
      "outputs": [
        {
          "output_type": "execute_result",
          "data": {
            "text/plain": [
              "<sqlite3.Cursor at 0x78ae54fc0c40>"
            ]
          },
          "metadata": {},
          "execution_count": 22
        }
      ]
    },
    {
      "cell_type": "code",
      "source": [
        "data.commit()\n",
        "data.close()"
      ],
      "metadata": {
        "id": "cQCKe-z6O9Et"
      },
      "execution_count": 23,
      "outputs": []
    },
    {
      "cell_type": "markdown",
      "source": [
        "#Query and Visualizing the Data"
      ],
      "metadata": {
        "id": "iyQ_BQElPSPb"
      }
    },
    {
      "cell_type": "code",
      "source": [
        "# Reconnect to database\n",
        "data = sqlite3.connect(\"sales_data.db\")"
      ],
      "metadata": {
        "id": "-ZgYi3p_PZP_"
      },
      "execution_count": 27,
      "outputs": []
    },
    {
      "cell_type": "code",
      "source": [
        "# SQL query\n",
        "query = \"\"\"\n",
        "SELECT Product,\n",
        "       SUM(Quantity) AS Total_qty,\n",
        "       SUM(Quantity * Price) AS Revenue\n",
        "FROM sales\n",
        "GROUP BY Product\n",
        "\"\"\""
      ],
      "metadata": {
        "id": "ynQncy8MPuY3"
      },
      "execution_count": 28,
      "outputs": []
    },
    {
      "cell_type": "code",
      "source": [
        "# Load into pandas\n",
        "df = pd.read_sql_query(query, data)"
      ],
      "metadata": {
        "id": "5gT175bLQOvG"
      },
      "execution_count": 29,
      "outputs": []
    },
    {
      "cell_type": "code",
      "source": [
        "# Print the summary\n",
        "print(\"Sales Summary:\")\n",
        "print(df)"
      ],
      "metadata": {
        "colab": {
          "base_uri": "https://localhost:8080/"
        },
        "id": "knl0C3O5Qanh",
        "outputId": "c0ba6722-9964-41ff-da3b-655de7fb4bd3"
      },
      "execution_count": 30,
      "outputs": [
        {
          "output_type": "stream",
          "name": "stdout",
          "text": [
            "Sales Summary:\n",
            "      product  Total_qty  Revenue\n",
            "0  Headphones         42   2100.0\n",
            "1    Keyboard         36    900.0\n",
            "2      Laptop          9   6750.0\n",
            "3     Monitor         15   2250.0\n",
            "4       Mouse         60   1200.0\n",
            "5  Smartphone         24   7200.0\n"
          ]
        }
      ]
    },
    {
      "cell_type": "code",
      "source": [
        "#Total Sales Summary (Overall)\n",
        "total_summary = df[['Total_qty', 'Revenue']].sum()\n",
        "print(\"Overall Total Quantity Sold:\", total_summary['Total_qty'])\n",
        "print(\"Overall Total Revenue: $\", round(total_summary['Revenue'], 2))"
      ],
      "metadata": {
        "colab": {
          "base_uri": "https://localhost:8080/"
        },
        "id": "wXVBGGC9Q8LA",
        "outputId": "14852184-57a7-4cd7-9ae6-0c842d5bbaee"
      },
      "execution_count": 37,
      "outputs": [
        {
          "output_type": "stream",
          "name": "stdout",
          "text": [
            "Overall Total Quantity Sold: 186.0\n",
            "Overall Total Revenue: $ 20400.0\n"
          ]
        }
      ]
    },
    {
      "cell_type": "code",
      "source": [
        "#Sort Products by Revenue (Descending)\n",
        "df_sorted = df.sort_values(by='Revenue', ascending=False)\n",
        "print(\"Products Sorted by Revenue:\\n\", df_sorted)"
      ],
      "metadata": {
        "colab": {
          "base_uri": "https://localhost:8080/"
        },
        "id": "L0d-YrJ0Rp2o",
        "outputId": "19828334-f151-4021-d387-01f7f4a8a7f6"
      },
      "execution_count": 39,
      "outputs": [
        {
          "output_type": "stream",
          "name": "stdout",
          "text": [
            "Products Sorted by Revenue:\n",
            "       product  Total_qty  Revenue\n",
            "5  Smartphone         24   7200.0\n",
            "2      Laptop          9   6750.0\n",
            "3     Monitor         15   2250.0\n",
            "0  Headphones         42   2100.0\n",
            "4       Mouse         60   1200.0\n",
            "1    Keyboard         36    900.0\n"
          ]
        }
      ]
    },
    {
      "cell_type": "code",
      "source": [
        "# Plot\n",
        "df.plot(kind='bar', x='product', y='Revenue', color='lightgreen', legend=False)\n",
        "plt.title(\"Revenue by Product\")\n",
        "plt.ylabel(\"Revenue ($)\")\n",
        "plt.xlabel(\"Product\")\n",
        "plt.tight_layout()\n",
        "plt.show()"
      ],
      "metadata": {
        "colab": {
          "base_uri": "https://localhost:8080/",
          "height": 487
        },
        "id": "oclEfP6JSNPq",
        "outputId": "70a65bc2-b20c-46d5-876d-054ce334a732"
      },
      "execution_count": 42,
      "outputs": [
        {
          "output_type": "display_data",
          "data": {
            "text/plain": [
              "<Figure size 640x480 with 1 Axes>"
            ],
            "image/png": "[encoded data removed]"
          },
          "metadata": {}
        }
      ]
    },
    {
      "cell_type": "code",
      "source": [
        "plt.savefig(\"sales_chart.png\")\n",
        "\n",
        "from google.colab import files\n",
        "files.download(\"sales_chart.png\")"
      ],
      "metadata": {
        "id": "SZXYCPVzSSU7"
      },
      "execution_count": null,
      "outputs": []
    },
    {
      "cell_type": "code",
      "source": [
        "#Plot Quantity & Revenue Side by Side\n",
        "df.plot(kind='bar', x='product', y=['Total_qty', 'Revenue'], figsize=(8,5))\n",
        "plt.title(\"Quantity & Revenue by Product\")\n",
        "plt.ylabel(\"Values\")\n",
        "plt.xlabel(\"Product\")\n",
        "plt.tight_layout()\n",
        "plt.show()"
      ],
      "metadata": {
        "colab": {
          "base_uri": "https://localhost:8080/",
          "height": 507
        },
        "id": "lme4U387RzU9",
        "outputId": "343a871f-1ca8-445a-c9bb-34cebaeeb739"
      },
      "execution_count": 40,
      "outputs": [
        {
          "output_type": "display_data",
          "data": {
            "text/plain": [
              "<Figure size 800x500 with 1 Axes>"
            ],
            "image/png": "[encoded data removed]"
          },
          "metadata": {}
        }
      ]
    },
    {
      "cell_type": "code",
      "source": [
        "plt.savefig(\"Quantity & Revenue.png\")\n",
        "\n",
        "from google.colab import files\n",
        "files.download(\"Quantity & Revenue.png\")"
      ],
      "metadata": {
        "colab": {
          "base_uri": "https://localhost:8080/",
          "height": 34
        },
        "id": "zBdZ-6-sR9FE",
        "outputId": "b2a8d2a7-5ca0-47ba-ba29-94ea0fe39d2a"
      },
      "execution_count": 41,
      "outputs": [
        {
          "output_type": "display_data",
          "data": {
            "text/plain": [
              "<IPython.core.display.Javascript object>"
            ],
            "application/javascript": [
              "\n",
              "    async function download(id, filename, size) {\n",
              "      if (!google.colab.kernel.accessAllowed) {\n",
              "        return;\n",
              "      }\n",
              "      const div = document.createElement('div');\n",
              "      const label = document.createElement('label');\n",
              "      label.textContent = `Downloading \"${filename}\": `;\n",
              "      div.appendChild(label);\n",
              "      const progress = document.createElement('progress');\n",
              "      progress.max = size;\n",
              "      div.appendChild(progress);\n",
              "      document.body.appendChild(div);\n",
              "\n",
              "      const buffers = [];\n",
              "      let downloaded = 0;\n",
              "\n",
              "      const channel = await google.colab.kernel.comms.open(id);\n",
              "      // Send a message to notify the kernel that we're ready.\n",
              "      channel.send({})\n",
              "\n",
              "      for await (const message of channel.messages) {\n",
              "        // Send a message to notify the kernel that we're ready.\n",
              "        channel.send({})\n",
              "        if (message.buffers) {\n",
              "          for (const buffer of message.buffers) {\n",
              "            buffers.push(buffer);\n",
              "            downloaded += buffer.byteLength;\n",
              "            progress.value = downloaded;\n",
              "          }\n",
              "        }\n",
              "      }\n",
              "      const blob = new Blob(buffers, {type: 'application/binary'});\n",
              "      const a = document.createElement('a');\n",
              "      a.href = window.URL.createObjectURL(blob);\n",
              "      a.download = filename;\n",
              "      div.appendChild(a);\n",
              "      a.click();\n",
              "      div.remove();\n",
              "    }\n",
              "  "
            ]
          },
          "metadata": {}
        },
        {
          "output_type": "display_data",
          "data": {
            "text/plain": [
              "<IPython.core.display.Javascript object>"
            ],
            "application/javascript": [
              "download(\"download_6962e9ae-8b91-4ef1-ae49-18588f6a6925\", \"Quantity & Revenue.png\", 2397)"
            ]
          },
          "metadata": {}
        },
        {
          "output_type": "display_data",
          "data": {
            "text/plain": [
              "<Figure size 640x480 with 0 Axes>"
            ]
          },
          "metadata": {}
        }
      ]
    },
    {
      "cell_type": "code",
      "source": [
        "#Best-Selling Product\n",
        "top_product = df.loc[df['Revenue'].idxmax()]\n",
        "print(f\"Top Product by Revenue: {top_product['product']} (${top_product['Revenue']})\")"
      ],
      "metadata": {
        "colab": {
          "base_uri": "https://localhost:8080/"
        },
        "id": "wFb3VkhuSaiU",
        "outputId": "372c76d2-3954-4f09-85d4-5e48748ac4de"
      },
      "execution_count": 43,
      "outputs": [
        {
          "output_type": "stream",
          "name": "stdout",
          "text": [
            "Top Product by Revenue: Smartphone ($7200.0)\n"
          ]
        }
      ]
    },
    {
      "cell_type": "code",
      "source": [
        "data.close()"
      ],
      "metadata": {
        "id": "be6KPM5SQ7gx"
      },
      "execution_count": 44,
      "outputs": []
    },
    {
      "cell_type": "code",
      "source": [
        "#Download summary\n",
        "df.to_csv(\"sales_summary.csv\", index=False)\n",
        "\n",
        "from google.colab import files\n",
        "files.download(\"sales_summary.csv\")"
      ],
      "metadata": {
        "colab": {
          "base_uri": "https://localhost:8080/",
          "height": 17
        },
        "id": "eNy_-OHKSm2d",
        "outputId": "c54a3ce2-509e-481f-f4a5-6243f43c6292"
      },
      "execution_count": 45,
      "outputs": [
        {
          "output_type": "display_data",
          "data": {
            "text/plain": [
              "<IPython.core.display.Javascript object>"
            ],
            "application/javascript": [
              "\n",
              "    async function download(id, filename, size) {\n",
              "      if (!google.colab.kernel.accessAllowed) {\n",
              "        return;\n",
              "      }\n",
              "      const div = document.createElement('div');\n",
              "      const label = document.createElement('label');\n",
              "      label.textContent = `Downloading \"${filename}\": `;\n",
              "      div.appendChild(label);\n",
              "      const progress = document.createElement('progress');\n",
              "      progress.max = size;\n",
              "      div.appendChild(progress);\n",
              "      document.body.appendChild(div);\n",
              "\n",
              "      const buffers = [];\n",
              "      let downloaded = 0;\n",
              "\n",
              "      const channel = await google.colab.kernel.comms.open(id);\n",
              "      // Send a message to notify the kernel that we're ready.\n",
              "      channel.send({})\n",
              "\n",
              "      for await (const message of channel.messages) {\n",
              "        // Send a message to notify the kernel that we're ready.\n",
              "        channel.send({})\n",
              "        if (message.buffers) {\n",
              "          for (const buffer of message.buffers) {\n",
              "            buffers.push(buffer);\n",
              "            downloaded += buffer.byteLength;\n",
              "            progress.value = downloaded;\n",
              "          }\n",
              "        }\n",
              "      }\n",
              "      const blob = new Blob(buffers, {type: 'application/binary'});\n",
              "      const a = document.createElement('a');\n",
              "      a.href = window.URL.createObjectURL(blob);\n",
              "      a.download = filename;\n",
              "      div.appendChild(a);\n",
              "      a.click();\n",
              "      div.remove();\n",
              "    }\n",
              "  "
            ]
          },
          "metadata": {}
        },
        {
          "output_type": "display_data",
          "data": {
            "text/plain": [
              "<IPython.core.display.Javascript object>"
            ],
            "application/javascript": [
              "download(\"download_27bfb0b7-9a3f-4798-a917-e29027700d9e\", \"sales_summary.csv\", 136)"
            ]
          },
          "metadata": {}
        }
      ]
    }
  ]
}